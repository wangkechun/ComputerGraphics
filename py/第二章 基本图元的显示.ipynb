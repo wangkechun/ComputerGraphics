{
 "cells": [
  {
   "cell_type": "code",
   "execution_count": 1,
   "metadata": {
    "collapsed": false
   },
   "outputs": [
    {
     "name": "stdout",
     "output_type": "stream",
     "text": [
      "Populating the interactive namespace from numpy and matplotlib\n"
     ]
    },
    {
     "name": "stderr",
     "output_type": "stream",
     "text": [
      "WARNING: pylab import has clobbered these variables: ['random', 'copy']\n",
      "`%matplotlib` prevents importing * from pylab and numpy\n"
     ]
    }
   ],
   "source": [
    "%pylab inline"
   ]
  },
  {
   "cell_type": "markdown",
   "metadata": {},
   "source": [
    "P15 DDA算法实现"
   ]
  },
  {
   "cell_type": "code",
   "execution_count": 6,
   "metadata": {
    "collapsed": false
   },
   "outputs": [
    {
     "data": {
      "image/png": "[encoded data removed]",
      "text/plain": [
       "<matplotlib.figure.Figure at 0x7f2998c3f5d0>"
      ]
     },
     "metadata": {},
     "output_type": "display_data"
    }
   ],
   "source": [
    "def line(l,r):\n",
    "    px = []\n",
    "    py = []\n",
    "    x0,y0 = l\n",
    "    x1,y1 = r\n",
    "    dx = x1-x0\n",
    "    dy = y1-y0\n",
    "    steps = max(abs(dx), abs(dy))\n",
    "    xi = dx/steps\n",
    "    yi = dy/steps\n",
    "    x = x0\n",
    "    y = y0\n",
    "    px.append(x)\n",
    "    py.append(y)\n",
    "    for i in xrange(steps):\n",
    "        x += xi\n",
    "        y += yi\n",
    "        px.append(x)\n",
    "        py.append(y)\n",
    "    return px,py\n",
    "\n",
    "\n",
    "\n",
    "px,py = line((1,1),(28,16))\n",
    "plt.plot(px,py,'or')\n",
    "px,py = line((5,90),(20,2))\n",
    "plt.plot(array(px),array(py),'ob')\n",
    "plt.xlim(0,100)\n",
    "plt.ylim(0,100)\n",
    "plt.show()"
   ]
  },
  {
   "cell_type": "markdown",
   "metadata": {},
   "source": [
    "CYTHON优化版本"
   ]
  },
  {
   "cell_type": "code",
   "execution_count": 7,
   "metadata": {
    "collapsed": true
   },
   "outputs": [],
   "source": [
    "%%cython\n",
    "from __future__ import division\n",
    "import numpy as np\n",
    "cimport numpy as np\n",
    "DTYPE = np.int\n",
    "ctypedef np.int_t DTYPE_t\n",
    "cimport cython\n",
    "def line3(l,r):\n",
    "    cdef int x0,y0,x1,y1,dx,dy,steps,k\n",
    "    cdef float xi,yi,x,y\n",
    "    x0,y0 = l\n",
    "    x1,y1 = r\n",
    "    x = x0\n",
    "    y = y0\n",
    "    dx = x1-x0\n",
    "    dy = y1-y0\n",
    "    steps = max(abs(dx), abs(dy))\n",
    "    cdef np.ndarray px = np.zeros(steps+1, dtype=DTYPE)\n",
    "    cdef np.ndarray py = np.zeros(steps+1, dtype=DTYPE)\n",
    "    xi = <float>dx/steps\n",
    "    yi = <float>dy/steps\n",
    "    px[0] = <int>x\n",
    "    py[0] = <int>y\n",
    "    cdef unsigned int i\n",
    "    for i in range(steps):\n",
    "        x += xi\n",
    "        y += yi\n",
    "        px[i+1] = <int>x\n",
    "        py[i+1] = <int>y\n",
    "    return px,py"
   ]
  },
  {
   "cell_type": "code",
   "execution_count": null,
   "metadata": {
    "collapsed": true
   },
   "outputs": [],
   "source": []
  }
 ],
 "metadata": {
  "kernelspec": {
   "display_name": "Python 2",
   "language": "python",
   "name": "python2"
  },
  "language_info": {
   "codemirror_mode": {
    "name": "ipython",
    "version": 2
   },
   "file_extension": ".py",
   "mimetype": "text/x-python",
   "name": "python",
   "nbconvert_exporter": "python",
   "pygments_lexer": "ipython2",
   "version": "2.7.6"
  }
 },
 "nbformat": 4,
 "nbformat_minor": 0
}
